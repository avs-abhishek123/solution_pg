{
  "cells": [
    {
      "cell_type": "markdown",
      "metadata": {
        "id": "eNvYs7rrqhHj"
      },
      "source": [
        "<h2 style = \"color : Brown\"> Data Frame </h2>"
      ]
    },
    {
      "cell_type": "code",
      "execution_count": 1,
      "metadata": {
        "id": "CJWbUJYAqhHv"
      },
      "outputs": [],
      "source": [
        "# All imports\n",
        "import numpy as np\n",
        "import pandas as pd"
      ]
    },
    {
      "cell_type": "markdown",
      "metadata": {
        "id": "yJZ6oYGBqhH0"
      },
      "source": [
        "<h4 style = \"color : Sky blue\"> Example - 1</h4>  \n",
        "\n",
        "##### Create a Data Frame cars using raw data stored in a dictionary\n"
      ]
    },
    {
      "cell_type": "code",
      "execution_count": 2,
      "metadata": {
        "id": "8DF-fcsCqhH2"
      },
      "outputs": [],
      "source": [
        "cars_per_cap = [809, 731, 588, 18, 200, 70, 45]\n",
        "country = ['United States', 'Australia', 'Japan', 'India', 'Russia', 'Morocco', 'Egypt']\n",
        "drives_right = [True, False, False, False, True, True, True]"
      ]
    },
    {
      "cell_type": "code",
      "execution_count": null,
      "metadata": {
        "id": "gWTkCVsNqhH4"
      },
      "outputs": [],
      "source": [
        "data = {\"cars_per_cap\": cars_per_cap, \"country\": country, \"drives_right\": drives_right}"
      ]
    },
    {
      "cell_type": "code",
      "execution_count": null,
      "metadata": {
        "id": "Id9CrieIqhH6",
        "outputId": "381363ca-c947-45dc-96ba-ab8dd67ef44c"
      },
      "outputs": [
        {
          "data": {
            "text/plain": [
              "{'cars_per_cap': [809, 731, 588, 18, 200, 70, 45],\n",
              " 'country': ['United States',\n",
              "  'Australia',\n",
              "  'Japan',\n",
              "  'India',\n",
              "  'Russia',\n",
              "  'Morocco',\n",
              "  'Egypt'],\n",
              " 'drives_right': [True, False, False, False, True, True, True]}"
            ]
          },
          "execution_count": 11,
          "metadata": {},
          "output_type": "execute_result"
        }
      ],
      "source": [
        "data"
      ]
    },
    {
      "cell_type": "code",
      "execution_count": null,
      "metadata": {
        "id": "lw3rCuQKqhH-",
        "outputId": "0d933306-f5f9-48c4-f355-bb971f87d445"
      },
      "outputs": [
        {
          "data": {
            "text/html": [
              "<div>\n",
              "<style scoped>\n",
              "    .dataframe tbody tr th:only-of-type {\n",
              "        vertical-align: middle;\n",
              "    }\n",
              "\n",
              "    .dataframe tbody tr th {\n",
              "        vertical-align: top;\n",
              "    }\n",
              "\n",
              "    .dataframe thead th {\n",
              "        text-align: right;\n",
              "    }\n",
              "</style>\n",
              "<table border=\"1\" class=\"dataframe\">\n",
              "  <thead>\n",
              "    <tr style=\"text-align: right;\">\n",
              "      <th></th>\n",
              "      <th>cars_per_cap</th>\n",
              "      <th>country</th>\n",
              "      <th>drives_right</th>\n",
              "    </tr>\n",
              "  </thead>\n",
              "  <tbody>\n",
              "    <tr>\n",
              "      <th>0</th>\n",
              "      <td>809</td>\n",
              "      <td>United States</td>\n",
              "      <td>True</td>\n",
              "    </tr>\n",
              "    <tr>\n",
              "      <th>1</th>\n",
              "      <td>731</td>\n",
              "      <td>Australia</td>\n",
              "      <td>False</td>\n",
              "    </tr>\n",
              "    <tr>\n",
              "      <th>2</th>\n",
              "      <td>588</td>\n",
              "      <td>Japan</td>\n",
              "      <td>False</td>\n",
              "    </tr>\n",
              "    <tr>\n",
              "      <th>3</th>\n",
              "      <td>18</td>\n",
              "      <td>India</td>\n",
              "      <td>False</td>\n",
              "    </tr>\n",
              "    <tr>\n",
              "      <th>4</th>\n",
              "      <td>200</td>\n",
              "      <td>Russia</td>\n",
              "      <td>True</td>\n",
              "    </tr>\n",
              "    <tr>\n",
              "      <th>5</th>\n",
              "      <td>70</td>\n",
              "      <td>Morocco</td>\n",
              "      <td>True</td>\n",
              "    </tr>\n",
              "    <tr>\n",
              "      <th>6</th>\n",
              "      <td>45</td>\n",
              "      <td>Egypt</td>\n",
              "      <td>True</td>\n",
              "    </tr>\n",
              "  </tbody>\n",
              "</table>\n",
              "</div>"
            ],
            "text/plain": [
              "   cars_per_cap        country  drives_right\n",
              "0           809  United States          True\n",
              "1           731      Australia         False\n",
              "2           588          Japan         False\n",
              "3            18          India         False\n",
              "4           200         Russia          True\n",
              "5            70        Morocco          True\n",
              "6            45          Egypt          True"
            ]
          },
          "execution_count": 12,
          "metadata": {},
          "output_type": "execute_result"
        }
      ],
      "source": [
        "cars = pd.DataFrame(data)\n",
        "\n",
        "cars"
      ]
    },
    {
      "cell_type": "code",
      "execution_count": null,
      "metadata": {
        "id": "n-SbIbdhqhIB",
        "outputId": "a00364b8-e75c-4cf6-b362-bc79d9b218cc"
      },
      "outputs": [
        {
          "data": {
            "text/plain": [
              "pandas.core.frame.DataFrame"
            ]
          },
          "execution_count": 13,
          "metadata": {},
          "output_type": "execute_result"
        }
      ],
      "source": [
        "type(cars)"
      ]
    },
    {
      "cell_type": "markdown",
      "metadata": {
        "id": "inl65FgPqhID"
      },
      "source": [
        "<h4 style = \"color : Sky blue\"> Example - 2 (Reading data from a file)</h4>  \n",
        "\n",
        "##### Create a Data Frame by importing cars data from cars.csv"
      ]
    },
    {
      "cell_type": "code",
      "execution_count": null,
      "metadata": {
        "id": "Sc48lCUUqhIG",
        "outputId": "79a30262-2c06-435a-f195-9d28d0c7071e"
      },
      "outputs": [
        {
          "data": {
            "text/html": [
              "<div>\n",
              "<style scoped>\n",
              "    .dataframe tbody tr th:only-of-type {\n",
              "        vertical-align: middle;\n",
              "    }\n",
              "\n",
              "    .dataframe tbody tr th {\n",
              "        vertical-align: top;\n",
              "    }\n",
              "\n",
              "    .dataframe thead th {\n",
              "        text-align: right;\n",
              "    }\n",
              "</style>\n",
              "<table border=\"1\" class=\"dataframe\">\n",
              "  <thead>\n",
              "    <tr style=\"text-align: right;\">\n",
              "      <th></th>\n",
              "      <th>USCA</th>\n",
              "      <th>US</th>\n",
              "      <th>United States</th>\n",
              "      <th>809</th>\n",
              "      <th>FALSE</th>\n",
              "    </tr>\n",
              "  </thead>\n",
              "  <tbody>\n",
              "    <tr>\n",
              "      <th>0</th>\n",
              "      <td>ASPAC</td>\n",
              "      <td>AUS</td>\n",
              "      <td>Australia</td>\n",
              "      <td>731.0</td>\n",
              "      <td>True</td>\n",
              "    </tr>\n",
              "    <tr>\n",
              "      <th>1</th>\n",
              "      <td>ASPAC</td>\n",
              "      <td>JAP</td>\n",
              "      <td>Japan</td>\n",
              "      <td>588.0</td>\n",
              "      <td>True</td>\n",
              "    </tr>\n",
              "    <tr>\n",
              "      <th>2</th>\n",
              "      <td>ASPAC</td>\n",
              "      <td>IN</td>\n",
              "      <td>India</td>\n",
              "      <td>18.0</td>\n",
              "      <td>True</td>\n",
              "    </tr>\n",
              "    <tr>\n",
              "      <th>3</th>\n",
              "      <td>ASPAC</td>\n",
              "      <td>RU</td>\n",
              "      <td>Russia</td>\n",
              "      <td>200.0</td>\n",
              "      <td>False</td>\n",
              "    </tr>\n",
              "    <tr>\n",
              "      <th>4</th>\n",
              "      <td>LATAM</td>\n",
              "      <td>MOR</td>\n",
              "      <td>Morocco</td>\n",
              "      <td>70.0</td>\n",
              "      <td>False</td>\n",
              "    </tr>\n",
              "    <tr>\n",
              "      <th>5</th>\n",
              "      <td>AFR</td>\n",
              "      <td>EG</td>\n",
              "      <td>Egypt</td>\n",
              "      <td>45.0</td>\n",
              "      <td>False</td>\n",
              "    </tr>\n",
              "    <tr>\n",
              "      <th>6</th>\n",
              "      <td>EUR</td>\n",
              "      <td>ENG</td>\n",
              "      <td>England</td>\n",
              "      <td>NaN</td>\n",
              "      <td>True</td>\n",
              "    </tr>\n",
              "  </tbody>\n",
              "</table>\n",
              "</div>"
            ],
            "text/plain": [
              "    USCA   US United States    809  FALSE\n",
              "0  ASPAC  AUS     Australia  731.0   True\n",
              "1  ASPAC  JAP         Japan  588.0   True\n",
              "2  ASPAC   IN         India   18.0   True\n",
              "3  ASPAC   RU        Russia  200.0  False\n",
              "4  LATAM  MOR       Morocco   70.0  False\n",
              "5    AFR   EG         Egypt   45.0  False\n",
              "6    EUR  ENG       England    NaN   True"
            ]
          },
          "execution_count": 16,
          "metadata": {},
          "output_type": "execute_result"
        }
      ],
      "source": [
        "# Read a file using pandas\n",
        "\n",
        "cars_df = pd.read_csv('cars.csv')\n",
        "\n",
        "cars_df"
      ]
    },
    {
      "cell_type": "markdown",
      "metadata": {
        "id": "1_xk2fKxqhII"
      },
      "source": [
        "<h4 style = \"color : Sky blue\"> Example - 3 (Column headers)</h4>  \n",
        "\n",
        "##### Read file - skip header"
      ]
    },
    {
      "cell_type": "code",
      "execution_count": null,
      "metadata": {
        "id": "kzpDkwTAqhIK",
        "outputId": "24f329c5-abaf-444a-b0cd-3551513fe811"
      },
      "outputs": [
        {
          "data": {
            "text/html": [
              "<div>\n",
              "<style scoped>\n",
              "    .dataframe tbody tr th:only-of-type {\n",
              "        vertical-align: middle;\n",
              "    }\n",
              "\n",
              "    .dataframe tbody tr th {\n",
              "        vertical-align: top;\n",
              "    }\n",
              "\n",
              "    .dataframe thead th {\n",
              "        text-align: right;\n",
              "    }\n",
              "</style>\n",
              "<table border=\"1\" class=\"dataframe\">\n",
              "  <thead>\n",
              "    <tr style=\"text-align: right;\">\n",
              "      <th></th>\n",
              "      <th>0</th>\n",
              "      <th>1</th>\n",
              "      <th>2</th>\n",
              "      <th>3</th>\n",
              "      <th>4</th>\n",
              "    </tr>\n",
              "  </thead>\n",
              "  <tbody>\n",
              "    <tr>\n",
              "      <th>0</th>\n",
              "      <td>USCA</td>\n",
              "      <td>US</td>\n",
              "      <td>United States</td>\n",
              "      <td>809.0</td>\n",
              "      <td>False</td>\n",
              "    </tr>\n",
              "    <tr>\n",
              "      <th>1</th>\n",
              "      <td>ASPAC</td>\n",
              "      <td>AUS</td>\n",
              "      <td>Australia</td>\n",
              "      <td>731.0</td>\n",
              "      <td>True</td>\n",
              "    </tr>\n",
              "    <tr>\n",
              "      <th>2</th>\n",
              "      <td>ASPAC</td>\n",
              "      <td>JAP</td>\n",
              "      <td>Japan</td>\n",
              "      <td>588.0</td>\n",
              "      <td>True</td>\n",
              "    </tr>\n",
              "    <tr>\n",
              "      <th>3</th>\n",
              "      <td>ASPAC</td>\n",
              "      <td>IN</td>\n",
              "      <td>India</td>\n",
              "      <td>18.0</td>\n",
              "      <td>True</td>\n",
              "    </tr>\n",
              "    <tr>\n",
              "      <th>4</th>\n",
              "      <td>ASPAC</td>\n",
              "      <td>RU</td>\n",
              "      <td>Russia</td>\n",
              "      <td>200.0</td>\n",
              "      <td>False</td>\n",
              "    </tr>\n",
              "    <tr>\n",
              "      <th>5</th>\n",
              "      <td>LATAM</td>\n",
              "      <td>MOR</td>\n",
              "      <td>Morocco</td>\n",
              "      <td>70.0</td>\n",
              "      <td>False</td>\n",
              "    </tr>\n",
              "    <tr>\n",
              "      <th>6</th>\n",
              "      <td>AFR</td>\n",
              "      <td>EG</td>\n",
              "      <td>Egypt</td>\n",
              "      <td>45.0</td>\n",
              "      <td>False</td>\n",
              "    </tr>\n",
              "    <tr>\n",
              "      <th>7</th>\n",
              "      <td>EUR</td>\n",
              "      <td>ENG</td>\n",
              "      <td>England</td>\n",
              "      <td>NaN</td>\n",
              "      <td>True</td>\n",
              "    </tr>\n",
              "  </tbody>\n",
              "</table>\n",
              "</div>"
            ],
            "text/plain": [
              "       0    1              2      3      4\n",
              "0   USCA   US  United States  809.0  False\n",
              "1  ASPAC  AUS      Australia  731.0   True\n",
              "2  ASPAC  JAP          Japan  588.0   True\n",
              "3  ASPAC   IN          India   18.0   True\n",
              "4  ASPAC   RU         Russia  200.0  False\n",
              "5  LATAM  MOR        Morocco   70.0  False\n",
              "6    AFR   EG          Egypt   45.0  False\n",
              "7    EUR  ENG        England    NaN   True"
            ]
          },
          "execution_count": 35,
          "metadata": {},
          "output_type": "execute_result"
        }
      ],
      "source": [
        "cars_df = pd.read_csv('cars.csv', header=None)\n",
        "\n",
        "cars_df"
      ]
    },
    {
      "cell_type": "markdown",
      "metadata": {
        "id": "AuIAqgNtqhIM"
      },
      "source": [
        "##### Assign Headers"
      ]
    },
    {
      "cell_type": "code",
      "execution_count": null,
      "metadata": {
        "id": "QX1h8FxjqhIN",
        "outputId": "e7b03aad-3655-4b4d-fac5-965d1d13be76"
      },
      "outputs": [
        {
          "data": {
            "text/plain": [
              "Int64Index([0, 1, 2, 3, 4], dtype='int64')"
            ]
          },
          "execution_count": 36,
          "metadata": {},
          "output_type": "execute_result"
        }
      ],
      "source": [
        "# Returns an array of headers\n",
        "\n",
        "cars_df.columns"
      ]
    },
    {
      "cell_type": "code",
      "execution_count": null,
      "metadata": {
        "id": "mHbMmk-pqhIO"
      },
      "outputs": [],
      "source": [
        "# Rename Headers\n",
        "\n",
        "cars_df.columns = ['country code', 'region', 'country', 'cars_per_cap', 'drive_right']"
      ]
    },
    {
      "cell_type": "code",
      "execution_count": null,
      "metadata": {
        "id": "TAbpEB0JqhIP",
        "outputId": "f94f1a1e-5568-4565-dd6b-b72a1942418b"
      },
      "outputs": [
        {
          "data": {
            "text/html": [
              "<div>\n",
              "<style scoped>\n",
              "    .dataframe tbody tr th:only-of-type {\n",
              "        vertical-align: middle;\n",
              "    }\n",
              "\n",
              "    .dataframe tbody tr th {\n",
              "        vertical-align: top;\n",
              "    }\n",
              "\n",
              "    .dataframe thead th {\n",
              "        text-align: right;\n",
              "    }\n",
              "</style>\n",
              "<table border=\"1\" class=\"dataframe\">\n",
              "  <thead>\n",
              "    <tr style=\"text-align: right;\">\n",
              "      <th></th>\n",
              "      <th>country code</th>\n",
              "      <th>region</th>\n",
              "      <th>country</th>\n",
              "      <th>cars_per_cap</th>\n",
              "      <th>drive_right</th>\n",
              "    </tr>\n",
              "  </thead>\n",
              "  <tbody>\n",
              "    <tr>\n",
              "      <th>0</th>\n",
              "      <td>USCA</td>\n",
              "      <td>US</td>\n",
              "      <td>United States</td>\n",
              "      <td>809.0</td>\n",
              "      <td>False</td>\n",
              "    </tr>\n",
              "    <tr>\n",
              "      <th>1</th>\n",
              "      <td>ASPAC</td>\n",
              "      <td>AUS</td>\n",
              "      <td>Australia</td>\n",
              "      <td>731.0</td>\n",
              "      <td>True</td>\n",
              "    </tr>\n",
              "    <tr>\n",
              "      <th>2</th>\n",
              "      <td>ASPAC</td>\n",
              "      <td>JAP</td>\n",
              "      <td>Japan</td>\n",
              "      <td>588.0</td>\n",
              "      <td>True</td>\n",
              "    </tr>\n",
              "    <tr>\n",
              "      <th>3</th>\n",
              "      <td>ASPAC</td>\n",
              "      <td>IN</td>\n",
              "      <td>India</td>\n",
              "      <td>18.0</td>\n",
              "      <td>True</td>\n",
              "    </tr>\n",
              "    <tr>\n",
              "      <th>4</th>\n",
              "      <td>ASPAC</td>\n",
              "      <td>RU</td>\n",
              "      <td>Russia</td>\n",
              "      <td>200.0</td>\n",
              "      <td>False</td>\n",
              "    </tr>\n",
              "    <tr>\n",
              "      <th>5</th>\n",
              "      <td>LATAM</td>\n",
              "      <td>MOR</td>\n",
              "      <td>Morocco</td>\n",
              "      <td>70.0</td>\n",
              "      <td>False</td>\n",
              "    </tr>\n",
              "    <tr>\n",
              "      <th>6</th>\n",
              "      <td>AFR</td>\n",
              "      <td>EG</td>\n",
              "      <td>Egypt</td>\n",
              "      <td>45.0</td>\n",
              "      <td>False</td>\n",
              "    </tr>\n",
              "    <tr>\n",
              "      <th>7</th>\n",
              "      <td>EUR</td>\n",
              "      <td>ENG</td>\n",
              "      <td>England</td>\n",
              "      <td>NaN</td>\n",
              "      <td>True</td>\n",
              "    </tr>\n",
              "  </tbody>\n",
              "</table>\n",
              "</div>"
            ],
            "text/plain": [
              "  country code region        country  cars_per_cap  drive_right\n",
              "0         USCA     US  United States         809.0        False\n",
              "1        ASPAC    AUS      Australia         731.0         True\n",
              "2        ASPAC    JAP          Japan         588.0         True\n",
              "3        ASPAC     IN          India          18.0         True\n",
              "4        ASPAC     RU         Russia         200.0        False\n",
              "5        LATAM    MOR        Morocco          70.0        False\n",
              "6          AFR     EG          Egypt          45.0        False\n",
              "7          EUR    ENG        England           NaN         True"
            ]
          },
          "execution_count": 38,
          "metadata": {},
          "output_type": "execute_result"
        }
      ],
      "source": [
        "cars_df"
      ]
    },
    {
      "cell_type": "markdown",
      "metadata": {
        "id": "m6BymAMlqhIR"
      },
      "source": [
        "<h4 style = \"color : Sky blue\"> Example - 4 (Row index/names) </h4>  \n",
        "\n",
        "##### Read file - skip header and assign first column as index."
      ]
    },
    {
      "cell_type": "code",
      "execution_count": null,
      "metadata": {
        "id": "eaJJHdznqhIS",
        "outputId": "d7f28a5f-4673-459a-921c-c49941028aa3"
      },
      "outputs": [
        {
          "data": {
            "text/plain": [
              "RangeIndex(start=0, stop=8, step=1)"
            ]
          },
          "execution_count": 31,
          "metadata": {},
          "output_type": "execute_result"
        }
      ],
      "source": [
        "# Index is returned by\n",
        "cars_df.index"
      ]
    },
    {
      "cell_type": "code",
      "execution_count": null,
      "metadata": {
        "id": "HrRY44scqhIT",
        "outputId": "e5728a02-c750-433d-b32c-84a86c5aac51"
      },
      "outputs": [
        {
          "data": {
            "text/html": [
              "<div>\n",
              "<style scoped>\n",
              "    .dataframe tbody tr th:only-of-type {\n",
              "        vertical-align: middle;\n",
              "    }\n",
              "\n",
              "    .dataframe tbody tr th {\n",
              "        vertical-align: top;\n",
              "    }\n",
              "\n",
              "    .dataframe thead th {\n",
              "        text-align: right;\n",
              "    }\n",
              "</style>\n",
              "<table border=\"1\" class=\"dataframe\">\n",
              "  <thead>\n",
              "    <tr style=\"text-align: right;\">\n",
              "      <th></th>\n",
              "      <th>region</th>\n",
              "      <th>country</th>\n",
              "      <th>cars_per_cap</th>\n",
              "      <th>drive_right</th>\n",
              "    </tr>\n",
              "    <tr>\n",
              "      <th>0</th>\n",
              "      <th></th>\n",
              "      <th></th>\n",
              "      <th></th>\n",
              "      <th></th>\n",
              "    </tr>\n",
              "  </thead>\n",
              "  <tbody>\n",
              "    <tr>\n",
              "      <th>USCA</th>\n",
              "      <td>US</td>\n",
              "      <td>United States</td>\n",
              "      <td>809.0</td>\n",
              "      <td>False</td>\n",
              "    </tr>\n",
              "    <tr>\n",
              "      <th>ASPAC</th>\n",
              "      <td>AUS</td>\n",
              "      <td>Australia</td>\n",
              "      <td>731.0</td>\n",
              "      <td>True</td>\n",
              "    </tr>\n",
              "    <tr>\n",
              "      <th>ASPAC</th>\n",
              "      <td>JAP</td>\n",
              "      <td>Japan</td>\n",
              "      <td>588.0</td>\n",
              "      <td>True</td>\n",
              "    </tr>\n",
              "    <tr>\n",
              "      <th>ASPAC</th>\n",
              "      <td>IN</td>\n",
              "      <td>India</td>\n",
              "      <td>18.0</td>\n",
              "      <td>True</td>\n",
              "    </tr>\n",
              "    <tr>\n",
              "      <th>ASPAC</th>\n",
              "      <td>RU</td>\n",
              "      <td>Russia</td>\n",
              "      <td>200.0</td>\n",
              "      <td>False</td>\n",
              "    </tr>\n",
              "    <tr>\n",
              "      <th>LATAM</th>\n",
              "      <td>MOR</td>\n",
              "      <td>Morocco</td>\n",
              "      <td>70.0</td>\n",
              "      <td>False</td>\n",
              "    </tr>\n",
              "    <tr>\n",
              "      <th>AFR</th>\n",
              "      <td>EG</td>\n",
              "      <td>Egypt</td>\n",
              "      <td>45.0</td>\n",
              "      <td>False</td>\n",
              "    </tr>\n",
              "    <tr>\n",
              "      <th>EUR</th>\n",
              "      <td>ENG</td>\n",
              "      <td>England</td>\n",
              "      <td>NaN</td>\n",
              "      <td>True</td>\n",
              "    </tr>\n",
              "  </tbody>\n",
              "</table>\n",
              "</div>"
            ],
            "text/plain": [
              "      region        country  cars_per_cap  drive_right\n",
              "0                                                     \n",
              "USCA      US  United States         809.0        False\n",
              "ASPAC    AUS      Australia         731.0         True\n",
              "ASPAC    JAP          Japan         588.0         True\n",
              "ASPAC     IN          India          18.0         True\n",
              "ASPAC     RU         Russia         200.0        False\n",
              "LATAM    MOR        Morocco          70.0        False\n",
              "AFR       EG          Egypt          45.0        False\n",
              "EUR      ENG        England           NaN         True"
            ]
          },
          "execution_count": 43,
          "metadata": {},
          "output_type": "execute_result"
        }
      ],
      "source": [
        "# Read file and set 1st column as index\n",
        "cars_df = pd.read_csv(\"cars.csv\", header= None, index_col=0)\n",
        "\n",
        "# set the column names\n",
        "cars_df.columns = ['region', 'country', 'cars_per_cap', 'drive_right']\n",
        "cars_df"
      ]
    },
    {
      "cell_type": "code",
      "execution_count": null,
      "metadata": {
        "id": "EjPc-yZvqhIW",
        "outputId": "36123ba5-6109-4483-a15a-e4ecbb752c5d"
      },
      "outputs": [
        {
          "data": {
            "text/plain": [
              "Index(['USCA', 'ASPAC', 'ASPAC', 'ASPAC', 'ASPAC', 'LATAM', 'AFR', 'EUR'], dtype='object', name=0)"
            ]
          },
          "execution_count": 44,
          "metadata": {},
          "output_type": "execute_result"
        }
      ],
      "source": [
        "# Print the new index\n",
        "cars_df.index\n"
      ]
    },
    {
      "cell_type": "markdown",
      "metadata": {
        "id": "4Aj7C4zdqhIX"
      },
      "source": [
        "##### Rename the Index Name"
      ]
    },
    {
      "cell_type": "code",
      "execution_count": null,
      "metadata": {
        "id": "NhHGtkK_qhIY",
        "outputId": "8ecd6da1-67b7-46df-b109-e239d307cbc2"
      },
      "outputs": [
        {
          "data": {
            "text/html": [
              "<div>\n",
              "<style scoped>\n",
              "    .dataframe tbody tr th:only-of-type {\n",
              "        vertical-align: middle;\n",
              "    }\n",
              "\n",
              "    .dataframe tbody tr th {\n",
              "        vertical-align: top;\n",
              "    }\n",
              "\n",
              "    .dataframe thead th {\n",
              "        text-align: right;\n",
              "    }\n",
              "</style>\n",
              "<table border=\"1\" class=\"dataframe\">\n",
              "  <thead>\n",
              "    <tr style=\"text-align: right;\">\n",
              "      <th></th>\n",
              "      <th>region</th>\n",
              "      <th>country</th>\n",
              "      <th>cars_per_cap</th>\n",
              "      <th>drive_right</th>\n",
              "    </tr>\n",
              "    <tr>\n",
              "      <th>country_code</th>\n",
              "      <th></th>\n",
              "      <th></th>\n",
              "      <th></th>\n",
              "      <th></th>\n",
              "    </tr>\n",
              "  </thead>\n",
              "  <tbody>\n",
              "    <tr>\n",
              "      <th>USCA</th>\n",
              "      <td>US</td>\n",
              "      <td>United States</td>\n",
              "      <td>809.0</td>\n",
              "      <td>False</td>\n",
              "    </tr>\n",
              "    <tr>\n",
              "      <th>ASPAC</th>\n",
              "      <td>AUS</td>\n",
              "      <td>Australia</td>\n",
              "      <td>731.0</td>\n",
              "      <td>True</td>\n",
              "    </tr>\n",
              "    <tr>\n",
              "      <th>ASPAC</th>\n",
              "      <td>JAP</td>\n",
              "      <td>Japan</td>\n",
              "      <td>588.0</td>\n",
              "      <td>True</td>\n",
              "    </tr>\n",
              "    <tr>\n",
              "      <th>ASPAC</th>\n",
              "      <td>IN</td>\n",
              "      <td>India</td>\n",
              "      <td>18.0</td>\n",
              "      <td>True</td>\n",
              "    </tr>\n",
              "    <tr>\n",
              "      <th>ASPAC</th>\n",
              "      <td>RU</td>\n",
              "      <td>Russia</td>\n",
              "      <td>200.0</td>\n",
              "      <td>False</td>\n",
              "    </tr>\n",
              "    <tr>\n",
              "      <th>LATAM</th>\n",
              "      <td>MOR</td>\n",
              "      <td>Morocco</td>\n",
              "      <td>70.0</td>\n",
              "      <td>False</td>\n",
              "    </tr>\n",
              "    <tr>\n",
              "      <th>AFR</th>\n",
              "      <td>EG</td>\n",
              "      <td>Egypt</td>\n",
              "      <td>45.0</td>\n",
              "      <td>False</td>\n",
              "    </tr>\n",
              "    <tr>\n",
              "      <th>EUR</th>\n",
              "      <td>ENG</td>\n",
              "      <td>England</td>\n",
              "      <td>NaN</td>\n",
              "      <td>True</td>\n",
              "    </tr>\n",
              "  </tbody>\n",
              "</table>\n",
              "</div>"
            ],
            "text/plain": [
              "             region        country  cars_per_cap  drive_right\n",
              "country_code                                                 \n",
              "USCA             US  United States         809.0        False\n",
              "ASPAC           AUS      Australia         731.0         True\n",
              "ASPAC           JAP          Japan         588.0         True\n",
              "ASPAC            IN          India          18.0         True\n",
              "ASPAC            RU         Russia         200.0        False\n",
              "LATAM           MOR        Morocco          70.0        False\n",
              "AFR              EG          Egypt          45.0        False\n",
              "EUR             ENG        England           NaN         True"
            ]
          },
          "execution_count": 46,
          "metadata": {},
          "output_type": "execute_result"
        }
      ],
      "source": [
        "cars_df.index.name = 'country_code'\n",
        "cars_df"
      ]
    },
    {
      "cell_type": "markdown",
      "metadata": {
        "id": "QlxXRCG6qhIZ"
      },
      "source": [
        "##### Delete the index name"
      ]
    },
    {
      "cell_type": "code",
      "execution_count": null,
      "metadata": {
        "id": "drRJQ6McqhIa",
        "outputId": "0de31421-6b02-4c37-d499-53f914dcffe5"
      },
      "outputs": [
        {
          "data": {
            "text/html": [
              "<div>\n",
              "<style scoped>\n",
              "    .dataframe tbody tr th:only-of-type {\n",
              "        vertical-align: middle;\n",
              "    }\n",
              "\n",
              "    .dataframe tbody tr th {\n",
              "        vertical-align: top;\n",
              "    }\n",
              "\n",
              "    .dataframe thead th {\n",
              "        text-align: right;\n",
              "    }\n",
              "</style>\n",
              "<table border=\"1\" class=\"dataframe\">\n",
              "  <thead>\n",
              "    <tr style=\"text-align: right;\">\n",
              "      <th></th>\n",
              "      <th>region</th>\n",
              "      <th>country</th>\n",
              "      <th>cars_per_cap</th>\n",
              "      <th>drive_right</th>\n",
              "    </tr>\n",
              "  </thead>\n",
              "  <tbody>\n",
              "    <tr>\n",
              "      <th>USCA</th>\n",
              "      <td>US</td>\n",
              "      <td>United States</td>\n",
              "      <td>809.0</td>\n",
              "      <td>False</td>\n",
              "    </tr>\n",
              "    <tr>\n",
              "      <th>ASPAC</th>\n",
              "      <td>AUS</td>\n",
              "      <td>Australia</td>\n",
              "      <td>731.0</td>\n",
              "      <td>True</td>\n",
              "    </tr>\n",
              "    <tr>\n",
              "      <th>ASPAC</th>\n",
              "      <td>JAP</td>\n",
              "      <td>Japan</td>\n",
              "      <td>588.0</td>\n",
              "      <td>True</td>\n",
              "    </tr>\n",
              "    <tr>\n",
              "      <th>ASPAC</th>\n",
              "      <td>IN</td>\n",
              "      <td>India</td>\n",
              "      <td>18.0</td>\n",
              "      <td>True</td>\n",
              "    </tr>\n",
              "    <tr>\n",
              "      <th>ASPAC</th>\n",
              "      <td>RU</td>\n",
              "      <td>Russia</td>\n",
              "      <td>200.0</td>\n",
              "      <td>False</td>\n",
              "    </tr>\n",
              "    <tr>\n",
              "      <th>LATAM</th>\n",
              "      <td>MOR</td>\n",
              "      <td>Morocco</td>\n",
              "      <td>70.0</td>\n",
              "      <td>False</td>\n",
              "    </tr>\n",
              "    <tr>\n",
              "      <th>AFR</th>\n",
              "      <td>EG</td>\n",
              "      <td>Egypt</td>\n",
              "      <td>45.0</td>\n",
              "      <td>False</td>\n",
              "    </tr>\n",
              "    <tr>\n",
              "      <th>EUR</th>\n",
              "      <td>ENG</td>\n",
              "      <td>England</td>\n",
              "      <td>NaN</td>\n",
              "      <td>True</td>\n",
              "    </tr>\n",
              "  </tbody>\n",
              "</table>\n",
              "</div>"
            ],
            "text/plain": [
              "      region        country  cars_per_cap  drive_right\n",
              "USCA      US  United States         809.0        False\n",
              "ASPAC    AUS      Australia         731.0         True\n",
              "ASPAC    JAP          Japan         588.0         True\n",
              "ASPAC     IN          India          18.0         True\n",
              "ASPAC     RU         Russia         200.0        False\n",
              "LATAM    MOR        Morocco          70.0        False\n",
              "AFR       EG          Egypt          45.0        False\n",
              "EUR      ENG        England           NaN         True"
            ]
          },
          "execution_count": 51,
          "metadata": {},
          "output_type": "execute_result"
        }
      ],
      "source": [
        "cars_df.index.name = None\n",
        "cars_df"
      ]
    },
    {
      "cell_type": "markdown",
      "metadata": {
        "id": "JvXzhhQFqhIb"
      },
      "source": [
        "##### Set Hierarchical index"
      ]
    },
    {
      "cell_type": "code",
      "execution_count": null,
      "metadata": {
        "id": "9YJ7h6G4qhIc"
      },
      "outputs": [],
      "source": [
        "# Read file and set 1st column as index\n",
        "cars_df = pd.read_csv(\"cars.csv\", header= None)\n",
        "\n",
        "# set the column names\n",
        "cars_df.columns = ['country_code','region','country','cars_per_cap','drives_right']\n",
        "\n",
        "cars_df.set_index(['region', 'country_code'], inplace=True)\n"
      ]
    },
    {
      "cell_type": "code",
      "execution_count": null,
      "metadata": {
        "id": "tNXfwNccqhId",
        "outputId": "80969524-23a6-4f80-bcc1-cd06a39e9ffc"
      },
      "outputs": [
        {
          "data": {
            "text/html": [
              "<div>\n",
              "<style scoped>\n",
              "    .dataframe tbody tr th:only-of-type {\n",
              "        vertical-align: middle;\n",
              "    }\n",
              "\n",
              "    .dataframe tbody tr th {\n",
              "        vertical-align: top;\n",
              "    }\n",
              "\n",
              "    .dataframe thead th {\n",
              "        text-align: right;\n",
              "    }\n",
              "</style>\n",
              "<table border=\"1\" class=\"dataframe\">\n",
              "  <thead>\n",
              "    <tr style=\"text-align: right;\">\n",
              "      <th></th>\n",
              "      <th></th>\n",
              "      <th>country</th>\n",
              "      <th>cars_per_cap</th>\n",
              "      <th>drives_right</th>\n",
              "    </tr>\n",
              "    <tr>\n",
              "      <th>region</th>\n",
              "      <th>country_code</th>\n",
              "      <th></th>\n",
              "      <th></th>\n",
              "      <th></th>\n",
              "    </tr>\n",
              "  </thead>\n",
              "  <tbody>\n",
              "    <tr>\n",
              "      <th>US</th>\n",
              "      <th>USCA</th>\n",
              "      <td>United States</td>\n",
              "      <td>809.0</td>\n",
              "      <td>False</td>\n",
              "    </tr>\n",
              "    <tr>\n",
              "      <th>AUS</th>\n",
              "      <th>ASPAC</th>\n",
              "      <td>Australia</td>\n",
              "      <td>731.0</td>\n",
              "      <td>True</td>\n",
              "    </tr>\n",
              "    <tr>\n",
              "      <th>JAP</th>\n",
              "      <th>ASPAC</th>\n",
              "      <td>Japan</td>\n",
              "      <td>588.0</td>\n",
              "      <td>True</td>\n",
              "    </tr>\n",
              "    <tr>\n",
              "      <th>IN</th>\n",
              "      <th>ASPAC</th>\n",
              "      <td>India</td>\n",
              "      <td>18.0</td>\n",
              "      <td>True</td>\n",
              "    </tr>\n",
              "    <tr>\n",
              "      <th>RU</th>\n",
              "      <th>ASPAC</th>\n",
              "      <td>Russia</td>\n",
              "      <td>200.0</td>\n",
              "      <td>False</td>\n",
              "    </tr>\n",
              "    <tr>\n",
              "      <th>MOR</th>\n",
              "      <th>LATAM</th>\n",
              "      <td>Morocco</td>\n",
              "      <td>70.0</td>\n",
              "      <td>False</td>\n",
              "    </tr>\n",
              "    <tr>\n",
              "      <th>EG</th>\n",
              "      <th>AFR</th>\n",
              "      <td>Egypt</td>\n",
              "      <td>45.0</td>\n",
              "      <td>False</td>\n",
              "    </tr>\n",
              "    <tr>\n",
              "      <th>ENG</th>\n",
              "      <th>EUR</th>\n",
              "      <td>England</td>\n",
              "      <td>NaN</td>\n",
              "      <td>True</td>\n",
              "    </tr>\n",
              "  </tbody>\n",
              "</table>\n",
              "</div>"
            ],
            "text/plain": [
              "                           country  cars_per_cap  drives_right\n",
              "region country_code                                           \n",
              "US     USCA          United States         809.0         False\n",
              "AUS    ASPAC             Australia         731.0          True\n",
              "JAP    ASPAC                 Japan         588.0          True\n",
              "IN     ASPAC                 India          18.0          True\n",
              "RU     ASPAC                Russia         200.0         False\n",
              "MOR    LATAM               Morocco          70.0         False\n",
              "EG     AFR                   Egypt          45.0         False\n",
              "ENG    EUR                 England           NaN          True"
            ]
          },
          "execution_count": 53,
          "metadata": {},
          "output_type": "execute_result"
        }
      ],
      "source": [
        "cars_df"
      ]
    },
    {
      "cell_type": "code",
      "execution_count": null,
      "metadata": {
        "id": "hKjYxoLPqhIe"
      },
      "outputs": [],
      "source": [
        ""
      ]
    },
    {
      "cell_type": "markdown",
      "metadata": {
        "id": "RFeghibCqhIe"
      },
      "source": [
        "<h4 style = \"color : Sky blue\"> Example - 5 (Write Data Frame to file) </h4>  \n",
        "\n",
        "##### Write cars_df to cars_to_csv.csv"
      ]
    },
    {
      "cell_type": "code",
      "execution_count": null,
      "metadata": {
        "id": "lhy6zjKSqhIf"
      },
      "outputs": [],
      "source": [
        "cars_df.to_csv('cars_to_csv.csv')"
      ]
    },
    {
      "cell_type": "code",
      "execution_count": null,
      "metadata": {
        "id": "UvCCmdy1qhIf"
      },
      "outputs": [],
      "source": [
        ""
      ]
    },
    {
      "cell_type": "code",
      "source": [
        "import pandas as pd"
      ],
      "metadata": {
        "id": "PZppvD3bMbN0"
      },
      "execution_count": 4,
      "outputs": []
    },
    {
      "cell_type": "code",
      "source": [
        "path = \"/content/marks_1.csv\""
      ],
      "metadata": {
        "id": "HN21PCr_Mbk0"
      },
      "execution_count": 5,
      "outputs": []
    },
    {
      "cell_type": "code",
      "source": [
        "df1 = pd.read_csv(path , header= None, sep ='|',  index_col=0)\n",
        "\n",
        "df1.index.name =  'S.No.'\n",
        "df1.columns = [\"Name\",\"Subject\",\"Maximum Marks\",\"Marks Obtained\",\"Percentage\"]\n",
        "# df1\n",
        "print(df1)"
      ],
      "metadata": {
        "colab": {
          "base_uri": "https://localhost:8080/"
        },
        "id": "_TPJBfhAMb5A",
        "outputId": "9d48ee11-c033-4dfc-f04a-34a56205a422"
      },
      "execution_count": 8,
      "outputs": [
        {
          "output_type": "stream",
          "name": "stdout",
          "text": [
            "          Name      Subject  Maximum Marks  Marks  Obtained\n",
            "S.No.                                                      \n",
            "1       Akshay  Mathematics             50     40        80\n",
            "2       Mahima      English             40     33        83\n",
            "3        Vikas  Mathematics             50     42        84\n",
            "4      Abhinav      English             40     31        78\n",
            "5       Mahima      Science             50     40        80\n",
            "6       Akshay      Science             50     49        98\n",
            "7      Abhinav  Mathematics             50     47        94\n",
            "8        Vikas      Science             50     40        80\n",
            "9      Abhinav      Science             50     47        94\n",
            "10       Vikas      English             40     39        98\n",
            "11      Akshay      English             40     35        88\n",
            "12      Mahima  Mathematics             50     43        86\n"
          ]
        }
      ]
    },
    {
      "cell_type": "code",
      "source": [
        ""
      ],
      "metadata": {
        "id": "amoLK6F4Miwx"
      },
      "execution_count": null,
      "outputs": []
    }
  ],
  "metadata": {
    "kernelspec": {
      "display_name": "Python 3",
      "language": "python",
      "name": "python3"
    },
    "language_info": {
      "codemirror_mode": {
        "name": "ipython",
        "version": 3
      },
      "file_extension": ".py",
      "mimetype": "text/x-python",
      "name": "python",
      "nbconvert_exporter": "python",
      "pygments_lexer": "ipython3",
      "version": "3.7.3"
    },
    "colab": {
      "name": "UPDATEDSession+-+2_part_1-Teaching (1).ipynb",
      "provenance": [],
      "collapsed_sections": []
    }
  },
  "nbformat": 4,
  "nbformat_minor": 0
}